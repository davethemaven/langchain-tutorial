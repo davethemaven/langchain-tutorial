{
 "cells": [
  {
   "cell_type": "markdown",
   "id": "6a0ea0c4-7dd9-4ed8-9385-7349ae4586f2",
   "metadata": {},
   "source": [
    "# Tools involved\n",
    "\n",
    "## LangSmith\n",
    "LangSmith is a platform for building production-grade LLM applications. It allows you to closely monitor and evaluate your application, so you can ship quickly and with confidence. Use of LangChain is not necessary - LangSmith works on its own!\n",
    "\n",
    "## GitHub\n",
    "GitHub is a platform for version control and collaboration, allowing developers to manage and share code repositories. It integrates with Git, a distributed version control system, to track changes, manage branches, and collaborate on software projects. GitHub also provides features like issue tracking, pull requests, and project management tools to streamline development workflows."
   ]
  },
  {
   "cell_type": "markdown",
   "id": "46e0ec66-905a-4f2f-a7c0-4bc3c45f0e61",
   "metadata": {},
   "source": [
    "## Things I installed\n",
    "```pip install langchain```\n",
    "\n",
    "```pip install -U langsmith```\n",
    "\n",
    "```pip install -qU langchain-openai```\n",
    "\n",
    "# Environment variables\n",
    "instead of putting the API keys in the notebook, it's best practice to not share or expose those variables.  In the tutorial, it mentions you can have them imported directly in the notebook but I chose to go with a .env file.  I'm also going to add it to the '.gitignore' file.\n",
    "\n",
    "## Summary of Steps\n",
    "1. Create a .env file with your environment variables.\n",
    "2. Install the python-dotenv package.\n",
    "3. Load the .env file in your Python script or notebook using load_dotenv().\n",
    "4. Access the environment variables with os.getenv().\n",
    "\n",
    "By following these steps, you can securely manage and use environment variables from a .env file in your Python projects. Let me know if you have any further questions!"
   ]
  },
  {
   "cell_type": "code",
   "execution_count": 2,
   "id": "546924b9-9fd0-4f2d-b123-716721d166fb",
   "metadata": {},
   "outputs": [],
   "source": [
    "from dotenv import load_dotenv\n",
    "import os\n",
    "\n",
    "# Load environment variables from .env\n",
    "load_dotenv()\n",
    "\n",
    "# Now we can access the variables as usual\n",
    "openai_api_key = os.getenv(\"OPENAI_API_KEY\")\n",
    "langchain_tracing_v2 = os.getenv(\"LANGCHAIN_TRACING_V2\")\n",
    "langchain_api_key = os.getenv(\"LANGCHAIN_API_KEY\")\n",
    "\n",
    "from langchain_openai import ChatOpenAI\n",
    "\n",
    "model = ChatOpenAI(model=\"gpt-4\", openai_api_key = openai_api_key)"
   ]
  },
  {
   "cell_type": "code",
   "execution_count": null,
   "id": "0bb5b5de-d2d9-4d00-86e8-5e806bd6ab71",
   "metadata": {},
   "outputs": [],
   "source": []
  }
 ],
 "metadata": {
  "kernelspec": {
   "display_name": "Python 3 (ipykernel)",
   "language": "python",
   "name": "python3"
  },
  "language_info": {
   "codemirror_mode": {
    "name": "ipython",
    "version": 3
   },
   "file_extension": ".py",
   "mimetype": "text/x-python",
   "name": "python",
   "nbconvert_exporter": "python",
   "pygments_lexer": "ipython3",
   "version": "3.12.4"
  }
 },
 "nbformat": 4,
 "nbformat_minor": 5
}
